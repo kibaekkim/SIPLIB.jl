{
 "cells": [
  {
   "cell_type": "code",
   "execution_count": 4,
   "metadata": {
    "collapsed": false
   },
   "outputs": [
    {
     "data": {
      "text/plain": [
       "5×2 Array{Any,2}:\n",
       " \"TESLA_WIND\"     \"TESLA\"   \n",
       " \"MOHAVE_WIND\"    \"MOHAVE\"  \n",
       " \"IMPRLVLY_WIND\"  \"IMPRLVLY\"\n",
       " \"VACA-DIX_WIND\"  \"VACA-DIX\"\n",
       " \"ADELANTO_WIND\"  \"ADELANTO\""
      ]
     },
     "execution_count": 4,
     "metadata": {},
     "output_type": "execute_result"
    }
   ],
   "source": [
    "B = readdlm(\"Buses.txt\")\n",
    "G = readdlm(\"BusGenerators.txt\")\n",
    "I = readdlm(\"BusImportPoints.txt\")\n",
    "L = readdlm(\"BusLoads.txt\")\n",
    "R = readdlm(\"BusREGenerators.txt\")\n",
    "W = readdlm(\"BusWindGenerators.txt\")"
   ]
  },
  {
   "cell_type": "code",
   "execution_count": 3,
   "metadata": {
    "collapsed": false
   },
   "outputs": [
    {
     "data": {
      "text/plain": [
       "Dict{Any,Any} with 225 entries:\n",
       "  \"HAYDEN\"     => 9\n",
       "  \"MOENKOP1\"   => 22\n",
       "  \"GATES2\"     => 187\n",
       "  \"NORTH\"      => 78\n",
       "  \"VALLEY2\"    => 150\n",
       "  \"GOLDHILL\"   => 202\n",
       "  \"ROUND_MT2\"  => 111\n",
       "  \"MESA_CAL\"   => 138\n",
       "  \"MIGUEL\"     => 181\n",
       "  \"LOSBANOS2\"  => 189\n",
       "  \"GATES\"      => 102\n",
       "  \"FOURCORN\"   => 5\n",
       "  \"BURNS2\"     => 178\n",
       "  \"BRIDGER\"    => 34\n",
       "  \"HAYNES3G\"   => 41\n",
       "  \"GRIZZLY6\"   => 92\n",
       "  \"GRIZZLY3\"   => 89\n",
       "  \"MIRALOMA\"   => 143\n",
       "  \"PINTO_PS\"   => 161\n",
       "  \"SIGURD\"     => 164\n",
       "  \"MIDPOINT_2\" => 83\n",
       "  \"MALIN7\"     => 170\n",
       "  \"STA_E1\"     => 53\n",
       "  \"MARTIN\"     => 221\n",
       "  \"MALIN\"      => 81\n",
       "  ⋮            => ⋮"
      ]
     },
     "execution_count": 3,
     "metadata": {},
     "output_type": "execute_result"
    }
   ],
   "source": [
    "for b = B\n",
    "    print(\"$b \")\n",
    "    if in(b,G[:,2])\n",
    "        print(\"G \")\n",
    "    end\n",
    "    if in(b,I[:,2])\n",
    "        print(\"I \")\n",
    "    end\n",
    "    if in(b,L[:,2])\n",
    "        print(\"L \")\n",
    "    end\n",
    "    if in(b,R[:,2])\n",
    "        print(\"R \")\n",
    "    end\n",
    "    if in(b,W[:,2])\n",
    "        print(\"W\\n\")\n",
    "    end\n",
    "end"
   ]
  },
  {
   "cell_type": "code",
   "execution_count": 5,
   "metadata": {
    "collapsed": false
   },
   "outputs": [
    {
     "data": {
      "text/plain": [
       "130×2 Array{Any,2}:\n",
       " \"AGRICO_7_UNIT\"    \"MC_CALL\"  \n",
       " \"ALAMIT_7_UNIT1\"   \"MESA_CAL\" \n",
       " \"ALAMIT_7_UNIT2\"   \"MESA_CAL\" \n",
       " \"ALAMIT_7_UNIT3\"   \"MESA_CAL\" \n",
       " \"ALAMIT_7_UNIT4\"   \"MESA_CAL\" \n",
       " \"ALAMIT_7_UNIT5\"   \"MESA_CAL\" \n",
       " \"ALAMIT_7_UNIT6\"   \"MESA_CAL\" \n",
       " \"ALAMIT_7_UNIT7\"   \"MESA_CAL\" \n",
       " \"APPGEN_6_UNIT1\"   \"MESA_CAL\" \n",
       " \"ARCOGN_2_UNITS\"   \"MESA_CAL\" \n",
       " \"BASICE_2_UNITS\"   \"TESLA\"    \n",
       " \"BORDER_6_UNITA1\"  \"MISSION\"  \n",
       " \"BRDWAY_7_UNIT3\"   \"MESA_CAL\" \n",
       " ⋮                             \n",
       " \"SUNRIS_2_PL1X3\"   \"MIDWAY2\"  \n",
       " \"SUNSET_2_UNITS\"   \"MIDWAY\"   \n",
       " \"SUTTER_2_PL1X3\"   \"TESLA\"    \n",
       " \"SYCAMR_2_UNIT1\"   \"MESA_CAL\" \n",
       " \"S_ONOFRE_NUC\"     \"S_ONOFRE\" \n",
       " \"TERMEX_2_PL1X3\"   \"IMPRLVLY2\"\n",
       " \"BACKUPLITEHIPE1\"  \"LITEHIPE\" \n",
       " \"BACKUPLITEHIPE2\"  \"LITEHIPE\" \n",
       " \"BACKUPLITEHIPE3\"  \"LITEHIPE\" \n",
       " \"BACKUPLITEHIPE4\"  \"LITEHIPE\" \n",
       " \"BACKUPSUMMIT\"     \"SUMMIT\"   \n",
       " \"BACKUPMARTIN2\"    \"MARTIN2\"  "
      ]
     },
     "execution_count": 5,
     "metadata": {},
     "output_type": "execute_result"
    }
   ],
   "source": []
  },
  {
   "cell_type": "code",
   "execution_count": null,
   "metadata": {
    "collapsed": true
   },
   "outputs": [],
   "source": []
  }
 ],
 "metadata": {
  "anaconda-cloud": {},
  "kernelspec": {
   "display_name": "Julia 0.5.0",
   "language": "julia",
   "name": "julia-0.5"
  },
  "language_info": {
   "file_extension": ".jl",
   "mimetype": "application/julia",
   "name": "julia",
   "version": "0.5.0"
  }
 },
 "nbformat": 4,
 "nbformat_minor": 2
}
