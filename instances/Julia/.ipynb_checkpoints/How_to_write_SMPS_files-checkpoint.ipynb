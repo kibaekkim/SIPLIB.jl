{
 "cells": [
  {
   "cell_type": "code",
   "execution_count": 1,
   "metadata": {},
   "outputs": [],
   "source": [
    "include(\"../../src/SmpsWriter.jl\")\n",
    "using StructJuMP, SmpsWriter"
   ]
  },
  {
   "cell_type": "code",
   "execution_count": 2,
   "metadata": {},
   "outputs": [
    {
     "data": {
      "text/plain": [
       "sslp (generic function with 2 methods)"
      ]
     },
     "execution_count": 2,
     "metadata": {},
     "output_type": "execute_result"
    }
   ],
   "source": [
    "# read Julia model\n",
    "include(\"sslp/sslp.jl\")"
   ]
  },
  {
   "cell_type": "code",
   "execution_count": 3,
   "metadata": {},
   "outputs": [
    {
     "data": {
      "text/latex": [
       "$$ \\begin{alignat*}{1}\\min\\quad & 69 x_{1} + 42 x_{2} + 44 x_{3} + 69 x_{4} + 70 x_{5}\\\\\n",
       "\\text{Subject to} \\quad & x_{1} + x_{2} + x_{3} + x_{4} + x_{5} \\leq 5\\\\\n",
       " & x_{j} \\in \\{0,1\\} \\quad\\forall j \\in \\{1,2,3,4,5\\}\\\\\n",
       "\\end{alignat*}\n",
       " $$"
      ],
      "text/plain": [
       "Minimization problem with:\n",
       " * 1 linear constraint\n",
       " * 5 variables: 5 binary\n",
       "Solver is default solver"
      ]
     },
     "execution_count": 3,
     "metadata": {},
     "output_type": "execute_result"
    }
   ],
   "source": [
    "# generate sslp model instance with parameters (m,n,s)\n",
    "m = sslp(5,25,50)"
   ]
  },
  {
   "cell_type": "code",
   "execution_count": 4,
   "metadata": {},
   "outputs": [
    {
     "name": "stdout",
     "output_type": "stream",
     "text": [
      "Reading all data from StructJuMP model\n",
      "   First stage: vars (5), cons (1)\n",
      "  Second stage: vars (130), cons (30)\n",
      "  Number of scenarios: 50\n",
      "Writing core file ... done\n",
      "Writing time file ... done\n",
      "Writing time file ... done\n"
     ]
    }
   ],
   "source": [
    "# write SMPS files\n",
    "writeSmps(m, \"../SMPS/sslp_5_25_50\")"
   ]
  },
  {
   "cell_type": "code",
   "execution_count": 5,
   "metadata": {},
   "outputs": [
    {
     "name": "stdout",
     "output_type": "stream",
     "text": [
      "Reading all data from StructJuMP model\n",
      "   First stage: vars (5), cons (1)\n",
      "  Second stage: vars (130), cons (30)\n",
      "  Number of scenarios: 50\n"
     ]
    }
   ],
   "source": [
    "# write the deterministic equivalent form in MPS file\n",
    "writeMps(m, \"../MPS/sslp_5_25_50\")"
   ]
  }
 ],
 "metadata": {
  "kernelspec": {
   "display_name": "Julia 0.5.0",
   "language": "julia",
   "name": "julia-0.5"
  },
  "language_info": {
   "file_extension": ".jl",
   "mimetype": "application/julia",
   "name": "julia",
   "version": "0.5.0"
  }
 },
 "nbformat": 4,
 "nbformat_minor": 2
}
